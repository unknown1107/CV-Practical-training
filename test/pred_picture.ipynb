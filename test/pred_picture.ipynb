{
 "cells": [
  {
   "cell_type": "code",
   "execution_count": 4,
   "metadata": {},
   "outputs": [
    {
     "name": "stdout",
     "output_type": "stream",
     "text": [
      "\n",
      "image 1/1 /home/huangliang/CV-Practical-training/test/images/origin/test4.png: 352x640 2 two_wheelers, 2 helmets, 53.3ms\n",
      "Speed: 1.6ms preprocess, 53.3ms inference, 1.1ms postprocess per image at shape (1, 3, 352, 640)\n"
     ]
    },
    {
     "data": {
      "text/plain": [
       "'./images/pred/test4.png'"
      ]
     },
     "execution_count": 4,
     "metadata": {},
     "output_type": "execute_result"
    }
   ],
   "source": [
    "import os\n",
    "from ultralytics import YOLO\n",
    "\n",
    "# parameters\n",
    "MODEL_PATH = \"/home/huangliang/CV-Practical-training/runs/detect/train2/weights/best.pt\"\n",
    "IMAGE_ROOT_PATH = \"./images\"\n",
    "IMAGE_NAME = \"test4.png\"\n",
    "\n",
    "# Load a model\n",
    "model = YOLO(MODEL_PATH)  # load an official model\n",
    "# results = model.predict(\"./images/test1.jpg\", classes=[1, 2])\n",
    "results = model.predict(os.path.join(IMAGE_ROOT_PATH, 'origin', IMAGE_NAME))\n",
    "results[0].save(filename=os.path.join(IMAGE_ROOT_PATH, 'pred', IMAGE_NAME))"
   ]
  }
 ],
 "metadata": {
  "kernelspec": {
   "display_name": "yolov8",
   "language": "python",
   "name": "python3"
  },
  "language_info": {
   "codemirror_mode": {
    "name": "ipython",
    "version": 3
   },
   "file_extension": ".py",
   "mimetype": "text/x-python",
   "name": "python",
   "nbconvert_exporter": "python",
   "pygments_lexer": "ipython3",
   "version": "3.8.19"
  }
 },
 "nbformat": 4,
 "nbformat_minor": 2
}
