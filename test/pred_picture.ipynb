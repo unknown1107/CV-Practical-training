{
 "cells": [
  {
   "cell_type": "code",
   "execution_count": null,
   "metadata": {},
   "outputs": [],
   "source": [
    "import os\n",
    "from ultralytics import YOLO\n",
    "\n",
    "# parameters\n",
    "MODEL_PATH = \"/home/huangliang/CV-Practical-training/runs/detect/train2/weights/best.pt\"\n",
    "IMAGE_ROOT_PATH = \"./images\"\n",
    "IMAGE_NAME = \"test4.png\"\n",
    "\n",
    "# Load a model\n",
    "model = YOLO(MODEL_PATH)  # load an official model\n",
    "# results = model.predict(\"./images/test1.jpg\", classes=[1, 2])\n",
    "res = model.predict(os.path.join(IMAGE_ROOT_PATH, 'origin', IMAGE_NAME))\n",
    "res[0].save(filename=os.path.join(IMAGE_ROOT_PATH, 'pred', IMAGE_NAME))\n",
    "res[0].show()"
   ]
  },
  {
   "cell_type": "code",
   "execution_count": 35,
   "metadata": {},
   "outputs": [
    {
     "name": "stdout",
     "output_type": "stream",
     "text": [
      "\n",
      "0: 384x640 2 two_wheelers, 1 helmet, 1 without_helmet, 14.3ms\n",
      "Speed: 4.2ms preprocess, 14.3ms inference, 5.6ms postprocess per image at shape (1, 3, 384, 640)\n"
     ]
    },
    {
     "data": {
      "text/plain": [
       "True"
      ]
     },
     "execution_count": 35,
     "metadata": {},
     "output_type": "execute_result"
    }
   ],
   "source": [
    "import os\n",
    "from matplotlib import pyplot as plt\n",
    "import numpy as np\n",
    "from ultralytics import YOLO\n",
    "import cv2  # 导入OpenCV库\n",
    "\n",
    "class_dic = [\n",
    "'two_wheeler',  # 二轮车主体\n",
    "'helmet',       # 佩戴头盔的头部\n",
    "'without_helmet'# 未戴头盔的头部\n",
    "]\n",
    "\n",
    "class_BGR = [\n",
    "    (255, 0, 0),    # 二轮车主体      蓝\n",
    "    (0, 255, 255),  # 佩戴头盔的头部  黄\n",
    "    (0, 0, 255)     # 未戴头盔的头部  红\n",
    "]\n",
    "\n",
    "# Load a model\n",
    "MODEL_PATH = \"/home/huangliang/CV-Practical-training/runs/detect/train2/weights/best.pt\"\n",
    "model = YOLO(MODEL_PATH)  # load an official model\n",
    "\n",
    "\n",
    "image_path = '/home/huangliang/CV-Practical-training/test/images/origin/test2.png'\n",
    "image = cv2.imread(image_path)\n",
    "\n",
    "results = model(image)  # 输入图像路径\n",
    "\n",
    "# 4. 计数检测到的物体\n",
    "count = {}\n",
    "for result in results:\n",
    "    for obj in result.boxes:\n",
    "        cls = int(obj.cls[0])  # 获取类别索引\n",
    "        count[cls] = count.get(cls, 0) + 1  # 统计数量\n",
    "\n",
    "text_lines = []\n",
    "for k, v in count.items():\n",
    "    text_lines.append(f'{class_dic[k]}: {v}')\n",
    "\n",
    "\n",
    "for obj in results[0].boxes:\n",
    "    x1, y1, x2, y2 = map(int, obj.xyxy[0])  # 获取边界框坐标\n",
    "    cls = int(obj.cls[0])  # 获取类别索引\n",
    "\n",
    "    # 绘制矩形框\n",
    "    cv2.rectangle(image, (x1, y1), (x2, y2), class_BGR[cls], 3)\n",
    "\n",
    "    text = f'{class_dic[cls]}'\n",
    "    \n",
    "    # 获取文本的宽度和高度\n",
    "    (text_width, text_height), baseline = cv2.getTextSize(text, cv2.FONT_HERSHEY_SIMPLEX, 2, 2)\n",
    "\n",
    "    # 计算背景矩形的坐标\n",
    "    background_x1 = x1\n",
    "    background_y1 = y1 - text_height - baseline - 10  # 文本上方留出一些空间\n",
    "    background_x2 = x1 + text_width\n",
    "    background_y2 = y1\n",
    "\n",
    "    # 绘制红色背景矩形\n",
    "    cv2.rectangle(image, (background_x1, background_y1), (background_x2, background_y2), class_BGR[cls], cv2.FILLED)\n",
    "\n",
    "    # 在矩形上绘制文本\n",
    "    cv2.putText(image, text, (x1, y1 - 10), cv2.FONT_HERSHEY_SIMPLEX, 2, (0, 0, 0), 3)\n",
    "\n",
    "    # 在左上角绘制需要的信息\n",
    "    # 设置初始文本位置\n",
    "    x = 50\n",
    "    y_start = 200  # 第一行的y坐标\n",
    "\n",
    "    # 绘制每一行文本\n",
    "    for i, line in enumerate(text_lines):\n",
    "        y = y_start + i * 90\n",
    "        cv2.putText(image, line, (x, y), cv2.FONT_HERSHEY_COMPLEX, 3, (0, 0, 0), 3, cv2.LINE_AA)\n",
    "    \n",
    "\n",
    "    \n",
    "\n",
    "cv2.imwrite('image_lossless.png', image, [cv2.IMWRITE_PNG_COMPRESSION, 0])"
   ]
  }
 ],
 "metadata": {
  "kernelspec": {
   "display_name": "yolov8",
   "language": "python",
   "name": "python3"
  },
  "language_info": {
   "codemirror_mode": {
    "name": "ipython",
    "version": 3
   },
   "file_extension": ".py",
   "mimetype": "text/x-python",
   "name": "python",
   "nbconvert_exporter": "python",
   "pygments_lexer": "ipython3",
   "version": "3.8.19"
  }
 },
 "nbformat": 4,
 "nbformat_minor": 2
}
